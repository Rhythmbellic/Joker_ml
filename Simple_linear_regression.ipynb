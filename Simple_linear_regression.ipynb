{
  "nbformat": 4,
  "nbformat_minor": 0,
  "metadata": {
    "colab": {
      "provenance": [],
      "authorship_tag": "ABX9TyOtkggkgzCBanUcDlo+3VJu",
      "include_colab_link": true
    },
    "kernelspec": {
      "name": "python3",
      "display_name": "Python 3"
    },
    "language_info": {
      "name": "python"
    }
  },
  "cells": [
    {
      "cell_type": "markdown",
      "metadata": {
        "id": "view-in-github",
        "colab_type": "text"
      },
      "source": [
        "<a href=\"https://colab.research.google.com/github/Rhythmbellic/Joker_ml/blob/main/Simple_linear_regression.ipynb\" target=\"_parent\"><img src=\"https://colab.research.google.com/assets/colab-badge.svg\" alt=\"Open In Colab\"/></a>"
      ]
    },
    {
      "cell_type": "code",
      "execution_count": null,
      "metadata": {
        "id": "PBQiqHzfEQHL"
      },
      "outputs": [],
      "source": [
        "import numpy as np\n",
        "from sklearn.model_selection import train_test_split\n",
        "from sklearn.linear_model import LinearRegression\n",
        "from sklearn.metrics import mean_squared_error\n",
        "import matplotlib.pyplot as plt\n"
      ]
    },
    {
      "cell_type": "code",
      "source": [
        "# Generate some sample data\n",
        "np.random.seed(42)\n",
        "X = 2 * np.random.rand(100, 1)\n",
        "y =  4+ 3 * X + np.random.randn(100, 1)"
      ],
      "metadata": {
        "id": "3DMSblMlFj9V"
      },
      "execution_count": null,
      "outputs": []
    },
    {
      "cell_type": "code",
      "source": [
        "X,y"
      ],
      "metadata": {
        "colab": {
          "base_uri": "https://localhost:8080/"
        },
        "id": "DpgpnF65GB08",
        "outputId": "1141e30e-7729-4baa-95da-2a137f4e2bc3"
      },
      "execution_count": null,
      "outputs": [
        {
          "output_type": "execute_result",
          "data": {
            "text/plain": [
              "(array([[0.74908024],\n",
              "        [1.90142861],\n",
              "        [1.46398788],\n",
              "        [1.19731697],\n",
              "        [0.31203728],\n",
              "        [0.31198904],\n",
              "        [0.11616722],\n",
              "        [1.73235229],\n",
              "        [1.20223002],\n",
              "        [1.41614516],\n",
              "        [0.04116899],\n",
              "        [1.9398197 ],\n",
              "        [1.66488528],\n",
              "        [0.42467822],\n",
              "        [0.36364993],\n",
              "        [0.36680902],\n",
              "        [0.60848449],\n",
              "        [1.04951286],\n",
              "        [0.86389004],\n",
              "        [0.58245828],\n",
              "        [1.22370579],\n",
              "        [0.27898772],\n",
              "        [0.5842893 ],\n",
              "        [0.73272369],\n",
              "        [0.91213997],\n",
              "        [1.57035192],\n",
              "        [0.39934756],\n",
              "        [1.02846888],\n",
              "        [1.18482914],\n",
              "        [0.09290083],\n",
              "        [1.2150897 ],\n",
              "        [0.34104825],\n",
              "        [0.13010319],\n",
              "        [1.89777107],\n",
              "        [1.93126407],\n",
              "        [1.6167947 ],\n",
              "        [0.60922754],\n",
              "        [0.19534423],\n",
              "        [1.36846605],\n",
              "        [0.88030499],\n",
              "        [0.24407647],\n",
              "        [0.99035382],\n",
              "        [0.06877704],\n",
              "        [1.8186408 ],\n",
              "        [0.51755996],\n",
              "        [1.32504457],\n",
              "        [0.62342215],\n",
              "        [1.04013604],\n",
              "        [1.09342056],\n",
              "        [0.36970891],\n",
              "        [1.93916926],\n",
              "        [1.55026565],\n",
              "        [1.87899788],\n",
              "        [1.7896547 ],\n",
              "        [1.19579996],\n",
              "        [1.84374847],\n",
              "        [0.176985  ],\n",
              "        [0.39196572],\n",
              "        [0.09045458],\n",
              "        [0.65066066],\n",
              "        [0.77735458],\n",
              "        [0.54269806],\n",
              "        [1.65747502],\n",
              "        [0.71350665],\n",
              "        [0.56186902],\n",
              "        [1.08539217],\n",
              "        [0.28184845],\n",
              "        [1.60439396],\n",
              "        [0.14910129],\n",
              "        [1.97377387],\n",
              "        [1.54448954],\n",
              "        [0.39743136],\n",
              "        [0.01104423],\n",
              "        [1.63092286],\n",
              "        [1.41371469],\n",
              "        [1.45801434],\n",
              "        [1.54254069],\n",
              "        [0.1480893 ],\n",
              "        [0.71693146],\n",
              "        [0.23173812],\n",
              "        [1.72620685],\n",
              "        [1.24659625],\n",
              "        [0.66179605],\n",
              "        [0.1271167 ],\n",
              "        [0.62196464],\n",
              "        [0.65036664],\n",
              "        [1.45921236],\n",
              "        [1.27511494],\n",
              "        [1.77442549],\n",
              "        [0.94442985],\n",
              "        [0.23918849],\n",
              "        [1.42648957],\n",
              "        [1.5215701 ],\n",
              "        [1.1225544 ],\n",
              "        [1.54193436],\n",
              "        [0.98759119],\n",
              "        [1.04546566],\n",
              "        [0.85508204],\n",
              "        [0.05083825],\n",
              "        [0.21578285]]),\n",
              " array([[ 6.33428778],\n",
              "        [ 9.40527849],\n",
              "        [ 8.48372443],\n",
              "        [ 5.60438199],\n",
              "        [ 4.71643995],\n",
              "        [ 5.29307969],\n",
              "        [ 5.82639572],\n",
              "        [ 8.67878666],\n",
              "        [ 6.79819647],\n",
              "        [ 7.74667842],\n",
              "        [ 5.03890908],\n",
              "        [10.14821022],\n",
              "        [ 8.46489564],\n",
              "        [ 5.7873021 ],\n",
              "        [ 5.18802735],\n",
              "        [ 6.06907205],\n",
              "        [ 5.12340036],\n",
              "        [ 6.82087644],\n",
              "        [ 6.19956196],\n",
              "        [ 4.28385989],\n",
              "        [ 7.96723765],\n",
              "        [ 5.09801844],\n",
              "        [ 5.75798135],\n",
              "        [ 5.96358393],\n",
              "        [ 5.32104916],\n",
              "        [ 8.29041045],\n",
              "        [ 4.85532818],\n",
              "        [ 6.28312936],\n",
              "        [ 7.3932017 ],\n",
              "        [ 4.68275333],\n",
              "        [ 9.53145501],\n",
              "        [ 5.19772255],\n",
              "        [ 4.64785995],\n",
              "        [ 9.61886731],\n",
              "        [ 7.87502098],\n",
              "        [ 8.82387021],\n",
              "        [ 5.88791282],\n",
              "        [ 7.0492748 ],\n",
              "        [ 7.91303719],\n",
              "        [ 6.9424623 ],\n",
              "        [ 4.69751764],\n",
              "        [ 5.80238342],\n",
              "        [ 5.34915394],\n",
              "        [10.20785545],\n",
              "        [ 6.34371184],\n",
              "        [ 7.06574625],\n",
              "        [ 7.27306077],\n",
              "        [ 5.71855706],\n",
              "        [ 7.86711877],\n",
              "        [ 7.29958236],\n",
              "        [ 8.82697144],\n",
              "        [ 8.08449921],\n",
              "        [ 9.73664501],\n",
              "        [ 8.86548845],\n",
              "        [ 6.03673644],\n",
              "        [ 9.59980838],\n",
              "        [ 3.4686513 ],\n",
              "        [ 5.64948961],\n",
              "        [ 3.3519395 ],\n",
              "        [ 7.50191639],\n",
              "        [ 5.54881045],\n",
              "        [ 5.30603267],\n",
              "        [ 9.78594227],\n",
              "        [ 4.90965564],\n",
              "        [ 5.91306699],\n",
              "        [ 8.56331925],\n",
              "        [ 3.23806212],\n",
              "        [ 8.99781574],\n",
              "        [ 4.70718666],\n",
              "        [10.70314449],\n",
              "        [ 7.3965179 ],\n",
              "        [ 3.87183748],\n",
              "        [ 4.55507427],\n",
              "        [ 9.18975324],\n",
              "        [ 8.49163691],\n",
              "        [ 8.72049122],\n",
              "        [ 7.94759736],\n",
              "        [ 4.67652161],\n",
              "        [ 6.44386684],\n",
              "        [ 3.98086294],\n",
              "        [11.04439507],\n",
              "        [ 8.21362168],\n",
              "        [ 4.79408465],\n",
              "        [ 5.03790371],\n",
              "        [ 4.89121226],\n",
              "        [ 6.73818454],\n",
              "        [ 9.53623265],\n",
              "        [ 7.00466251],\n",
              "        [10.28665258],\n",
              "        [ 7.24607048],\n",
              "        [ 5.53962564],\n",
              "        [10.17626171],\n",
              "        [ 8.31932218],\n",
              "        [ 6.61392702],\n",
              "        [ 7.73628865],\n",
              "        [ 6.14696329],\n",
              "        [ 7.05929527],\n",
              "        [ 6.90639808],\n",
              "        [ 4.42920556],\n",
              "        [ 5.47453181]]))"
            ]
          },
          "metadata": {},
          "execution_count": 3
        }
      ]
    },
    {
      "cell_type": "code",
      "source": [
        "X_train, X_test, y_train, y_test = train_test_split(X, y, test_size=0.3, random_state=42)"
      ],
      "metadata": {
        "id": "XB9gbjEdGEO0"
      },
      "execution_count": null,
      "outputs": []
    },
    {
      "cell_type": "code",
      "source": [
        "# Create a linear regression model\n",
        "model = LinearRegression()"
      ],
      "metadata": {
        "id": "xWbSLEA0GbEx"
      },
      "execution_count": null,
      "outputs": []
    },
    {
      "cell_type": "code",
      "source": [
        "model.fit(X_train, y_train)"
      ],
      "metadata": {
        "colab": {
          "base_uri": "https://localhost:8080/",
          "height": 74
        },
        "id": "Lm_HLFnmGfyR",
        "outputId": "e1d17ff1-8e1c-4d46-efdc-c5e0180813a6"
      },
      "execution_count": null,
      "outputs": [
        {
          "output_type": "execute_result",
          "data": {
            "text/plain": [
              "LinearRegression()"
            ],
            "text/html": [
              "<style>#sk-container-id-1 {color: black;background-color: white;}#sk-container-id-1 pre{padding: 0;}#sk-container-id-1 div.sk-toggleable {background-color: white;}#sk-container-id-1 label.sk-toggleable__label {cursor: pointer;display: block;width: 100%;margin-bottom: 0;padding: 0.3em;box-sizing: border-box;text-align: center;}#sk-container-id-1 label.sk-toggleable__label-arrow:before {content: \"▸\";float: left;margin-right: 0.25em;color: #696969;}#sk-container-id-1 label.sk-toggleable__label-arrow:hover:before {color: black;}#sk-container-id-1 div.sk-estimator:hover label.sk-toggleable__label-arrow:before {color: black;}#sk-container-id-1 div.sk-toggleable__content {max-height: 0;max-width: 0;overflow: hidden;text-align: left;background-color: #f0f8ff;}#sk-container-id-1 div.sk-toggleable__content pre {margin: 0.2em;color: black;border-radius: 0.25em;background-color: #f0f8ff;}#sk-container-id-1 input.sk-toggleable__control:checked~div.sk-toggleable__content {max-height: 200px;max-width: 100%;overflow: auto;}#sk-container-id-1 input.sk-toggleable__control:checked~label.sk-toggleable__label-arrow:before {content: \"▾\";}#sk-container-id-1 div.sk-estimator input.sk-toggleable__control:checked~label.sk-toggleable__label {background-color: #d4ebff;}#sk-container-id-1 div.sk-label input.sk-toggleable__control:checked~label.sk-toggleable__label {background-color: #d4ebff;}#sk-container-id-1 input.sk-hidden--visually {border: 0;clip: rect(1px 1px 1px 1px);clip: rect(1px, 1px, 1px, 1px);height: 1px;margin: -1px;overflow: hidden;padding: 0;position: absolute;width: 1px;}#sk-container-id-1 div.sk-estimator {font-family: monospace;background-color: #f0f8ff;border: 1px dotted black;border-radius: 0.25em;box-sizing: border-box;margin-bottom: 0.5em;}#sk-container-id-1 div.sk-estimator:hover {background-color: #d4ebff;}#sk-container-id-1 div.sk-parallel-item::after {content: \"\";width: 100%;border-bottom: 1px solid gray;flex-grow: 1;}#sk-container-id-1 div.sk-label:hover label.sk-toggleable__label {background-color: #d4ebff;}#sk-container-id-1 div.sk-serial::before {content: \"\";position: absolute;border-left: 1px solid gray;box-sizing: border-box;top: 0;bottom: 0;left: 50%;z-index: 0;}#sk-container-id-1 div.sk-serial {display: flex;flex-direction: column;align-items: center;background-color: white;padding-right: 0.2em;padding-left: 0.2em;position: relative;}#sk-container-id-1 div.sk-item {position: relative;z-index: 1;}#sk-container-id-1 div.sk-parallel {display: flex;align-items: stretch;justify-content: center;background-color: white;position: relative;}#sk-container-id-1 div.sk-item::before, #sk-container-id-1 div.sk-parallel-item::before {content: \"\";position: absolute;border-left: 1px solid gray;box-sizing: border-box;top: 0;bottom: 0;left: 50%;z-index: -1;}#sk-container-id-1 div.sk-parallel-item {display: flex;flex-direction: column;z-index: 1;position: relative;background-color: white;}#sk-container-id-1 div.sk-parallel-item:first-child::after {align-self: flex-end;width: 50%;}#sk-container-id-1 div.sk-parallel-item:last-child::after {align-self: flex-start;width: 50%;}#sk-container-id-1 div.sk-parallel-item:only-child::after {width: 0;}#sk-container-id-1 div.sk-dashed-wrapped {border: 1px dashed gray;margin: 0 0.4em 0.5em 0.4em;box-sizing: border-box;padding-bottom: 0.4em;background-color: white;}#sk-container-id-1 div.sk-label label {font-family: monospace;font-weight: bold;display: inline-block;line-height: 1.2em;}#sk-container-id-1 div.sk-label-container {text-align: center;}#sk-container-id-1 div.sk-container {/* jupyter's `normalize.less` sets `[hidden] { display: none; }` but bootstrap.min.css set `[hidden] { display: none !important; }` so we also need the `!important` here to be able to override the default hidden behavior on the sphinx rendered scikit-learn.org. See: https://github.com/scikit-learn/scikit-learn/issues/21755 */display: inline-block !important;position: relative;}#sk-container-id-1 div.sk-text-repr-fallback {display: none;}</style><div id=\"sk-container-id-1\" class=\"sk-top-container\"><div class=\"sk-text-repr-fallback\"><pre>LinearRegression()</pre><b>In a Jupyter environment, please rerun this cell to show the HTML representation or trust the notebook. <br />On GitHub, the HTML representation is unable to render, please try loading this page with nbviewer.org.</b></div><div class=\"sk-container\" hidden><div class=\"sk-item\"><div class=\"sk-estimator sk-toggleable\"><input class=\"sk-toggleable__control sk-hidden--visually\" id=\"sk-estimator-id-1\" type=\"checkbox\" checked><label for=\"sk-estimator-id-1\" class=\"sk-toggleable__label sk-toggleable__label-arrow\">LinearRegression</label><div class=\"sk-toggleable__content\"><pre>LinearRegression()</pre></div></div></div></div></div>"
            ]
          },
          "metadata": {},
          "execution_count": 6
        }
      ]
    },
    {
      "cell_type": "code",
      "source": [
        "y_pred = model.predict(X_test)"
      ],
      "metadata": {
        "id": "5Fx3Abi9Glrz"
      },
      "execution_count": null,
      "outputs": []
    },
    {
      "cell_type": "code",
      "source": [
        "mse = mean_squared_error(y_test, y_pred)"
      ],
      "metadata": {
        "id": "RW7ICb-jG9dR"
      },
      "execution_count": null,
      "outputs": []
    },
    {
      "cell_type": "code",
      "source": [
        "print(f'Mean Squared Error: {mse}')"
      ],
      "metadata": {
        "colab": {
          "base_uri": "https://localhost:8080/"
        },
        "id": "dOBhLYA8HAr8",
        "outputId": "8a5e70f2-4827-45b7-cde3-221dfe64d521"
      },
      "execution_count": null,
      "outputs": [
        {
          "output_type": "stream",
          "name": "stdout",
          "text": [
            "Mean Squared Error: 0.630949561783864\n"
          ]
        }
      ]
    },
    {
      "cell_type": "code",
      "source": [
        "plt.scatter(X_test, y_test, color='black')\n",
        "plt.plot(X_test, y_pred, color='blue', linewidth=3)\n",
        "plt.xlabel('X')\n",
        "plt.ylabel('y')\n",
        "plt.title('Simple Linear Regression')\n",
        "plt.show()\n"
      ],
      "metadata": {
        "colab": {
          "base_uri": "https://localhost:8080/",
          "height": 472
        },
        "id": "iPRYx9fsHFZs",
        "outputId": "7879d797-2db8-45f9-d70d-824b4d8c1a78"
      },
      "execution_count": null,
      "outputs": [
        {
          "output_type": "display_data",
          "data": {
            "text/plain": [
              "<Figure size 640x480 with 1 Axes>"
            ],
            "image/png": "[encoded data removed]"
          },
          "metadata": {}
        }
      ]
    },
    {
      "cell_type": "code",
      "source": [],
      "metadata": {
        "id": "y-bCCxMVHO29"
      },
      "execution_count": null,
      "outputs": []
    }
  ]
}