{
  "nbformat": 4,
  "nbformat_minor": 0,
  "metadata": {
    "colab": {
      "provenance": [],
      "authorship_tag": "ABX9TyPXXZ+4jO/tyJ2TzTCDPl8p",
      "include_colab_link": true
    },
    "kernelspec": {
      "name": "python3",
      "display_name": "Python 3"
    },
    "language_info": {
      "name": "python"
    }
  },
  "cells": [
    {
      "cell_type": "markdown",
      "metadata": {
        "id": "view-in-github",
        "colab_type": "text"
      },
      "source": [
        "<a href=\"https://colab.research.google.com/github/Rhythmbellic/Joker_ml/blob/main/multiple_lr.ipynb\" target=\"_parent\"><img src=\"https://colab.research.google.com/assets/colab-badge.svg\" alt=\"Open In Colab\"/></a>"
      ]
    },
    {
      "cell_type": "code",
      "execution_count": null,
      "metadata": {
        "id": "hkPFzzD7HgOc"
      },
      "outputs": [],
      "source": [
        "import numpy as np\n",
        "from sklearn.model_selection import train_test_split\n",
        "from sklearn.linear_model import LinearRegression\n",
        "from sklearn.metrics import mean_squared_error"
      ]
    },
    {
      "cell_type": "code",
      "source": [
        "# Generate some sample data with two features\n",
        "np.random.seed(42)\n",
        "X = 2 * np.random.rand(100, 2)\n",
        "y = 4 + 3 * X[:, 0] + 2 * X[:, 1] + np.random.randn(100)\n"
      ],
      "metadata": {
        "id": "lHFEiT9xHoMv"
      },
      "execution_count": null,
      "outputs": []
    },
    {
      "cell_type": "code",
      "source": [
        "X"
      ],
      "metadata": {
        "colab": {
          "base_uri": "https://localhost:8080/"
        },
        "id": "zOvukEDuHtBd",
        "outputId": "0f69fe98-f37e-45ac-ca21-6cf210e9768a"
      },
      "execution_count": null,
      "outputs": [
        {
          "output_type": "execute_result",
          "data": {
            "text/plain": [
              "array([[0.74908024, 1.90142861],\n",
              "       [1.46398788, 1.19731697],\n",
              "       [0.31203728, 0.31198904],\n",
              "       [0.11616722, 1.73235229],\n",
              "       [1.20223002, 1.41614516],\n",
              "       [0.04116899, 1.9398197 ],\n",
              "       [1.66488528, 0.42467822],\n",
              "       [0.36364993, 0.36680902],\n",
              "       [0.60848449, 1.04951286],\n",
              "       [0.86389004, 0.58245828],\n",
              "       [1.22370579, 0.27898772],\n",
              "       [0.5842893 , 0.73272369],\n",
              "       [0.91213997, 1.57035192],\n",
              "       [0.39934756, 1.02846888],\n",
              "       [1.18482914, 0.09290083],\n",
              "       [1.2150897 , 0.34104825],\n",
              "       [0.13010319, 1.89777107],\n",
              "       [1.93126407, 1.6167947 ],\n",
              "       [0.60922754, 0.19534423],\n",
              "       [1.36846605, 0.88030499],\n",
              "       [0.24407647, 0.99035382],\n",
              "       [0.06877704, 1.8186408 ],\n",
              "       [0.51755996, 1.32504457],\n",
              "       [0.62342215, 1.04013604],\n",
              "       [1.09342056, 0.36970891],\n",
              "       [1.93916926, 1.55026565],\n",
              "       [1.87899788, 1.7896547 ],\n",
              "       [1.19579996, 1.84374847],\n",
              "       [0.176985  , 0.39196572],\n",
              "       [0.09045458, 0.65066066],\n",
              "       [0.77735458, 0.54269806],\n",
              "       [1.65747502, 0.71350665],\n",
              "       [0.56186902, 1.08539217],\n",
              "       [0.28184845, 1.60439396],\n",
              "       [0.14910129, 1.97377387],\n",
              "       [1.54448954, 0.39743136],\n",
              "       [0.01104423, 1.63092286],\n",
              "       [1.41371469, 1.45801434],\n",
              "       [1.54254069, 0.1480893 ],\n",
              "       [0.71693146, 0.23173812],\n",
              "       [1.72620685, 1.24659625],\n",
              "       [0.66179605, 0.1271167 ],\n",
              "       [0.62196464, 0.65036664],\n",
              "       [1.45921236, 1.27511494],\n",
              "       [1.77442549, 0.94442985],\n",
              "       [0.23918849, 1.42648957],\n",
              "       [1.5215701 , 1.1225544 ],\n",
              "       [1.54193436, 0.98759119],\n",
              "       [1.04546566, 0.85508204],\n",
              "       [0.05083825, 0.21578285],\n",
              "       [0.06285837, 1.27282082],\n",
              "       [0.62871196, 1.01714138],\n",
              "       [1.81513295, 0.49858446],\n",
              "       [0.82076585, 1.51110228],\n",
              "       [0.45759633, 0.15395982],\n",
              "       [0.57950291, 0.32244257],\n",
              "       [1.8593953 , 1.61624076],\n",
              "       [1.26680751, 1.74292118],\n",
              "       [1.60734415, 0.37314012],\n",
              "       [1.785118  , 1.07868448],\n",
              "       [1.61488031, 1.7921826 ],\n",
              "       [0.63600695, 0.22010385],\n",
              "       [0.45587033, 0.85421558],\n",
              "       [1.63602953, 1.72146117],\n",
              "       [0.01390426, 1.02149461],\n",
              "       [0.83482201, 0.44421562],\n",
              "       [0.23973073, 0.67523034],\n",
              "       [1.88581941, 0.64640586],\n",
              "       [1.03758124, 1.40603792],\n",
              "       [0.7272592 , 1.94356417],\n",
              "       [1.92489459, 0.50356459],\n",
              "       [0.99449701, 0.60175662],\n",
              "       [0.56968099, 0.07377389],\n",
              "       [1.21912867, 1.00535805],\n",
              "       [0.1029575 , 0.55729293],\n",
              "       [1.81653177, 0.47912378],\n",
              "       [0.28978974, 0.97890552],\n",
              "       [1.97130091, 0.48411054],\n",
              "       [1.34427109, 1.52323923],\n",
              "       [0.47527509, 1.4564327 ],\n",
              "       [0.73556627, 1.26461166],\n",
              "       [1.26705942, 1.07154937],\n",
              "       [0.18057954, 1.67060499],\n",
              "       [0.64156013, 0.37303702],\n",
              "       [0.08155028, 1.18178589],\n",
              "       [1.35512872, 0.03317566],\n",
              "       [1.02418612, 0.45299155],\n",
              "       [1.29034558, 0.34873286],\n",
              "       [1.38187548, 0.77347069],\n",
              "       [1.87345998, 0.27504189],\n",
              "       [0.6821327 , 0.22694704],\n",
              "       [1.84938724, 1.75467871],\n",
              "       [0.51588326, 1.31996809],\n",
              "       [1.6344444 , 1.11040162],\n",
              "       [1.05930116, 0.48370458],\n",
              "       [0.18620554, 1.79443152],\n",
              "       [1.80083611, 1.26620291],\n",
              "       [0.67805958, 0.69841915],\n",
              "       [1.45191136, 1.79422052],\n",
              "       [1.77417285, 1.55975109]])"
            ]
          },
          "metadata": {},
          "execution_count": 4
        }
      ]
    },
    {
      "cell_type": "code",
      "source": [
        "X_train, X_test, y_train, y_test = train_test_split(X, y, test_size=0.2, random_state=42)\n",
        "\n",
        "# Create a linear regression model\n",
        "model = LinearRegression()\n",
        "\n",
        "# Fit the model to the training data\n",
        "model.fit(X_train, y_train)\n",
        "\n",
        "# Make predictions on the test set\n",
        "y_pred = model.predict(X_test)\n",
        "\n",
        "# Evaluate the model\n",
        "mse = mean_squared_error(y_test, y_pred)\n",
        "print(f'Mean Squared Error: {mse}')"
      ],
      "metadata": {
        "colab": {
          "base_uri": "https://localhost:8080/"
        },
        "id": "m1Ka6kuSHuAu",
        "outputId": "fd782b8f-bfaa-4dd3-e29d-837139b96e2c"
      },
      "execution_count": null,
      "outputs": [
        {
          "output_type": "stream",
          "name": "stdout",
          "text": [
            "Mean Squared Error: 0.7144483936493807\n"
          ]
        }
      ]
    },
    {
      "cell_type": "code",
      "source": [],
      "metadata": {
        "id": "Qqj1QIb7H3U1"
      },
      "execution_count": null,
      "outputs": []
    }
  ]
}